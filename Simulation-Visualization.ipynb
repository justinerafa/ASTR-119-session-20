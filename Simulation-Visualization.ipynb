{
 "cells": [
  {
   "cell_type": "markdown",
   "metadata": {},
   "source": [
    "# Simulation Visualization"
   ]
  },
  {
   "cell_type": "markdown",
   "metadata": {},
   "source": [
    "## A Visualization of an astrophysical simulation\n",
    "\n",
    "There are two files, \"density_projection.dat\" and \"energy_projection.dat\", that contain the gas density and internal energy from a slice through a cosmological simulation. Let's read them in and make a three color image. "
   ]
  },
  {
   "cell_type": "code",
   "execution_count": null,
   "metadata": {},
   "outputs": [],
   "source": [
    "%matplotlib inline \n",
    "import matplotlib.pyplot as plt\n",
    "import matplotlib.colors as colors \n",
    "import numpy as np "
   ]
  },
  {
   "cell_type": "markdown",
   "metadata": {},
   "source": [
    "## Read in the density file \n",
    "\n",
    "The file is a 512x512 projection of a 512x3 dataset. We can read it uing numpy's fromfile() function and reshape it into 512x512 usings numpy's reshape()."
   ]
  },
  {
   "cell_type": "code",
   "execution_count": null,
   "metadata": {},
   "outputs": [],
   "source": [
    "fname = \"density_projection.dat\"\n",
    "d = np.fromfile(fname, dtype=np.float32)\n",
    "d = np.reshape(d,(512,512))"
   ]
  },
  {
   "cell_type": "markdown",
   "metadata": {},
   "source": [
    "## Repeat for energy file"
   ]
  },
  {
   "cell_type": "code",
   "execution_count": null,
   "metadata": {},
   "outputs": [],
   "source": [
    "fname = \"energy_projection.dat\"\n",
    "energy = np.fromfile(fname, dtype=np.float32)   #gives an array of 512 elements\n",
    "energy = np.reshape(energy,(512,512))           #reshapes the array"
   ]
  },
  {
   "cell_type": "markdown",
   "metadata": {},
   "source": [
    "## Let's plot them using the default color map"
   ]
  },
  {
   "cell_type": "code",
   "execution_count": null,
   "metadata": {},
   "outputs": [],
   "source": [
    "d_log = np.log10(d)\n",
    "f = plt.figure(figsize=(7,7))\n",
    "plt.imshow(d_log)"
   ]
  },
  {
   "cell_type": "code",
   "execution_count": null,
   "metadata": {},
   "outputs": [],
   "source": [
    "e_log = np.log10(energy)\n",
    "f = plt.figure(figsize=(7,7))\n",
    "plt.imshow(e_log)"
   ]
  },
  {
   "cell_type": "markdown",
   "metadata": {},
   "source": [
    "## Making a 3-color image\n",
    "\n",
    "We can combine the density and energy maps into a three color image using the HSV color space. Here H=[0,1] corresponds to the color wheel going from red -> red through yellow, gree, blue, and purple. V=[0,1] is the intensity of the image, S=[0,1] is the saturation of the color, with 0 being white (for V=1) or black (for V=0) and 1 being a deep color. \n",
    "\n",
    "We will map density to V and S, and energy to H. "
   ]
  },
  {
   "cell_type": "code",
   "execution_count": null,
   "metadata": {},
   "outputs": [],
   "source": [
    "d_min = d_log.min()\n",
    "d_max = d_log.max()\n",
    "\n",
    "v = (d_log - d_min)/(d_max - d_min)\n",
    "s = 1.0 - v"
   ]
  },
  {
   "cell_type": "code",
   "execution_count": null,
   "metadata": {},
   "outputs": [],
   "source": [
    "e_min = e_log.min()\n",
    "e_max = e_log.max()\n",
    "\n",
    "h = 0.8 - 0.2*(e_log - e_min)/(e_max - e_min)"
   ]
  },
  {
   "cell_type": "markdown",
   "metadata": {},
   "source": [
    "## Now we have to make a HSV image, and then convert to RGB"
   ]
  },
  {
   "cell_type": "code",
   "execution_count": null,
   "metadata": {},
   "outputs": [],
   "source": [
    "hsv_image = np.zeros((512,512,3))\n",
    "\n",
    "hsv_image[:,:,0] = h\n",
    "hsv_image[:,:,1] = s\n",
    "hsv_image[:,:,2] = v\n",
    "\n",
    "rgb_image = colors.hsv_to_rgb(hsv_image)"
   ]
  },
  {
   "cell_type": "markdown",
   "metadata": {},
   "source": [
    "## Now let's see the 3-color image"
   ]
  },
  {
   "cell_type": "code",
   "execution_count": null,
   "metadata": {},
   "outputs": [],
   "source": [
    "f = plt.figure(figsize=(7,7))\n",
    "plt.imshow(rgb_image)"
   ]
  },
  {
   "cell_type": "code",
   "execution_count": null,
   "metadata": {},
   "outputs": [],
   "source": [
    "plt.imsave(\"test.png\", rgb_image)"
   ]
  },
  {
   "cell_type": "code",
   "execution_count": null,
   "metadata": {},
   "outputs": [],
   "source": []
  }
 ],
 "metadata": {
  "kernelspec": {
   "display_name": "Python 3",
   "language": "python",
   "name": "python3"
  },
  "language_info": {
   "codemirror_mode": {
    "name": "ipython",
    "version": 3
   },
   "file_extension": ".py",
   "mimetype": "text/x-python",
   "name": "python",
   "nbconvert_exporter": "python",
   "pygments_lexer": "ipython3",
   "version": "3.6.5"
  }
 },
 "nbformat": 4,
 "nbformat_minor": 2
}
